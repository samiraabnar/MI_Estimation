{
  "nbformat": 4,
  "nbformat_minor": 0,
  "metadata": {
    "colab": {
      "name": "Untitled30.ipynb",
      "provenance": [],
      "collapsed_sections": [],
      "toc_visible": true,
      "authorship_tag": "ABX9TyNcS7VaMMgJy2juMCzNolw0",
      "include_colab_link": true
    },
    "kernelspec": {
      "name": "python3",
      "display_name": "Python 3"
    }
  },
  "cells": [
    {
      "cell_type": "markdown",
      "metadata": {
        "id": "view-in-github",
        "colab_type": "text"
      },
      "source": [
        "<a href=\"https://colab.research.google.com/github/samiraabnar/MI_Estimation/blob/master/MINE_jax.ipynb\" target=\"_parent\"><img src=\"https://colab.research.google.com/assets/colab-badge.svg\" alt=\"Open In Colab\"/></a>"
      ]
    },
    {
      "cell_type": "markdown",
      "metadata": {
        "id": "I6GW0wos5Dj4",
        "colab_type": "text"
      },
      "source": [
        "Jax Implementation of [MINE: Mutual Information Neural Estimation](https://arxiv.org/abs/1801.04062)\n",
        "\n",
        "The code here is based on this implementation: https://github.com/mzgubic/MINE"
      ]
    },
    {
      "cell_type": "code",
      "metadata": {
        "id": "i8e1lMXIEiCl",
        "colab_type": "code",
        "outputId": "17758dc6-ad0d-451d-d740-69bf9311993d",
        "colab": {
          "base_uri": "https://localhost:8080/",
          "height": 258
        }
      },
      "source": [
        "!pip install flax"
      ],
      "execution_count": 12,
      "outputs": [
        {
          "output_type": "stream",
          "text": [
            "Requirement already satisfied: flax in /usr/local/lib/python3.6/dist-packages (0.1.0)\n",
            "Requirement already satisfied: dataclasses in /usr/local/lib/python3.6/dist-packages (from flax) (0.7)\n",
            "Requirement already satisfied: numpy>=1.12 in /usr/local/lib/python3.6/dist-packages (from flax) (1.18.4)\n",
            "Requirement already satisfied: jax>=0.1.59 in /usr/local/lib/python3.6/dist-packages (from flax) (0.1.68)\n",
            "Requirement already satisfied: matplotlib in /usr/local/lib/python3.6/dist-packages (from flax) (3.2.1)\n",
            "Requirement already satisfied: msgpack in /usr/local/lib/python3.6/dist-packages (from flax) (1.0.0)\n",
            "Requirement already satisfied: opt-einsum in /usr/local/lib/python3.6/dist-packages (from jax>=0.1.59->flax) (3.2.1)\n",
            "Requirement already satisfied: absl-py in /usr/local/lib/python3.6/dist-packages (from jax>=0.1.59->flax) (0.9.0)\n",
            "Requirement already satisfied: cycler>=0.10 in /usr/local/lib/python3.6/dist-packages (from matplotlib->flax) (0.10.0)\n",
            "Requirement already satisfied: pyparsing!=2.0.4,!=2.1.2,!=2.1.6,>=2.0.1 in /usr/local/lib/python3.6/dist-packages (from matplotlib->flax) (2.4.7)\n",
            "Requirement already satisfied: python-dateutil>=2.1 in /usr/local/lib/python3.6/dist-packages (from matplotlib->flax) (2.8.1)\n",
            "Requirement already satisfied: kiwisolver>=1.0.1 in /usr/local/lib/python3.6/dist-packages (from matplotlib->flax) (1.2.0)\n",
            "Requirement already satisfied: six in /usr/local/lib/python3.6/dist-packages (from absl-py->jax>=0.1.59->flax) (1.12.0)\n"
          ],
          "name": "stdout"
        }
      ]
    },
    {
      "cell_type": "code",
      "metadata": {
        "id": "M5ryQEF71ENB",
        "colab_type": "code",
        "colab": {}
      },
      "source": [
        "import numpy as np\n",
        "import matplotlib.pyplot as plt\n",
        "from sklearn.feature_selection import mutual_info_regression\n",
        "\n",
        "import jax\n",
        "from jax import numpy as jnp, random, jit, lax\n",
        "import flax\n",
        "from flax import nn, optim\n",
        "\n",
        "from time import time"
      ],
      "execution_count": 0,
      "outputs": []
    },
    {
      "cell_type": "code",
      "metadata": {
        "id": "6u2BOKec1Xym",
        "colab_type": "code",
        "outputId": "34982105-ba59-456c-d60f-0f4a3f0389c0",
        "colab": {
          "base_uri": "https://localhost:8080/",
          "height": 51
        }
      },
      "source": [
        "# data\n",
        "var = 0.2\n",
        "def func(x):\n",
        "    return x\n",
        "\n",
        "def gen_x():\n",
        "    return np.sign(np.random.normal(0.,1.,[data_size,1]))\n",
        "\n",
        "def gen_y(x):\n",
        "    return func(x)+np.random.normal(0.,np.sqrt(var),[data_size,1])\n",
        "\n",
        "data_size = 20000\n",
        "x=gen_x()\n",
        "y=gen_y(x)\n",
        "p_y_x=np.exp(-(y-x)**2/(2*var))\n",
        "p_y_x_minus=np.exp(-(y+1)**2/(2*var))\n",
        "p_y_x_plus=np.exp(-(y-1)**2/(2*var))\n",
        "mi=np.average(np.log(p_y_x/(0.5*p_y_x_minus+0.5*p_y_x_plus)))\n",
        "print(mi)\n",
        "mi_numerical = mutual_info_regression(x.reshape(-1, 1), y.ravel())[0]\n",
        "print(mi_numerical)"
      ],
      "execution_count": 13,
      "outputs": [
        {
          "output_type": "stream",
          "text": [
            "0.6573884112315902\n",
            "0.6589340109221135\n"
          ],
          "name": "stdout"
        }
      ]
    },
    {
      "cell_type": "code",
      "metadata": {
        "id": "JUsz2_dXGAzR",
        "colab_type": "code",
        "colab": {}
      },
      "source": [
        "class MINE(nn.Module):\n",
        "  \"\"\" Mutual Information Neural Estimation\n",
        "      https://arxiv.org/abs/1801.04062\n",
        "  \"\"\"\n",
        "  def apply(self, x_in, y_in):\n",
        "    hidden_dim = 20\n",
        "    output_dim = 1\n",
        "\n",
        "    # Shuffle and concatenate\n",
        "    rng = flax.nn.make_rng()\n",
        "    y_shuffle = jax.random.permutation(rng, y_in)\n",
        "    x_conc = jnp.concatenate([x_in, x_in], axis=0)\n",
        "    y_conc = jnp.concatenate([y_in, y_shuffle], axis=0)\n",
        "\n",
        "    # Linear transformations\n",
        "    layer_x = nn.Dense(x_conc, hidden_dim, name='linear_x')\n",
        "    layer_y = nn.Dense(y_conc, hidden_dim, name='linear_y')\n",
        "\n",
        "    # Relu activation on the sum of the linear transformations\n",
        "    h = nn.relu(layer_x + layer_y)\n",
        "\n",
        "    # Final output\n",
        "    output = nn.Dense(h, output_dim)\n",
        "\n",
        "    return output\n"
      ],
      "execution_count": 0,
      "outputs": []
    },
    {
      "cell_type": "code",
      "metadata": {
        "id": "CBCWZx4cFgZP",
        "colab_type": "code",
        "colab": {}
      },
      "source": [
        "n_epochs = 400\n",
        "data_size = 20000\n",
        "rng = jax.random.PRNGKey(0)\n",
        "\n",
        "rng, rng_init = jax.random.split(rng)\n",
        "with nn.stochastic(rng):\n",
        "  _, initial_params = MINE.init_by_shape(rng_init, [((data_size, 1), jnp.float64), ((data_size, 1), jnp.float64)])\n",
        "  mine_model = flax.nn.Model(MINE, initial_params)\n",
        "\n",
        "optimizer = flax.optim.Adam(learning_rate=0.1).create(mine_model)\n",
        "\n",
        "@jax.jit\n",
        "def loss(outputs, x_in):\n",
        "  # split in T_xy and T_x_y predictions\n",
        "  n_samples = x_in.shape[0]\n",
        "  T_xy = outputs[:n_samples]\n",
        "  T_x_y = outputs[n_samples:]\n",
        "    \n",
        "  # compute the negative loss (maximise loss == minimise -loss)\n",
        "  neg_loss = -(jnp.mean(T_xy, axis=0) - jnp.log(jnp.mean(jnp.exp(T_x_y))))\n",
        "  return neg_loss\n",
        "\n",
        "@jax.jit\n",
        "def train_step(optimizer, batch_x, batch_y, rng=None):\n",
        "  def loss_fn(model):\n",
        "    with nn.stochastic(rng):\n",
        "      outputs = model(batch_x, batch_y)\n",
        "      loss_value = jnp.mean(loss(outputs, batch_x))\n",
        "    return loss_value\n",
        "\n",
        "  loss_value, grad = jax.value_and_grad(loss_fn)(optimizer.target)\n",
        "  optimizer = optimizer.apply_gradient(grad)\n",
        "\n",
        "  return loss_value, optimizer\n",
        "  \n"
      ],
      "execution_count": 0,
      "outputs": []
    },
    {
      "cell_type": "code",
      "metadata": {
        "id": "YdKs86UNLsa7",
        "colab_type": "code",
        "colab": {}
      },
      "source": [
        "# train\n",
        "MIs = []\n",
        "for epoch in range(n_epochs):\n",
        "    # generate the data\n",
        "    x_sample=gen_x()\n",
        "    y_sample=gen_y(x_sample)\n",
        "    \n",
        "    loss_value, optimizer = train_step(optimizer, x_sample, y_sample, rng)\n",
        "    # save the loss\n",
        "    MIs.append(-loss_value)\n",
        "\n"
      ],
      "execution_count": 0,
      "outputs": []
    },
    {
      "cell_type": "code",
      "metadata": {
        "id": "Qx8FEUPI1zVj",
        "colab_type": "code",
        "colab": {
          "base_uri": "https://localhost:8080/",
          "height": 279
        },
        "outputId": "51d42efb-c5f5-4a00-b145-c1e394cd64d3"
      },
      "source": [
        "fig, ax = plt.subplots()\n",
        "ax.plot(range(len(MIs)), MIs, label='MINE estimate')\n",
        "ax.plot([0, len(MIs)], [mi,mi], label='True Mutual Information')\n",
        "ax.set_xlabel('training steps')\n",
        "ax.legend(loc='best')\n",
        "fig.savefig('MINE.png')\n",
        "fig.show()"
      ],
      "execution_count": 74,
      "outputs": [
        {
          "output_type": "display_data",
          "data": {
            "image/png": "[encoded data removed]",
            "text/plain": [
              "<Figure size 432x288 with 1 Axes>"
            ]
          },
          "metadata": {
            "tags": [],
            "needs_background": "light"
          }
        }
      ]
    },
    {
      "cell_type": "code",
      "metadata": {
        "id": "Tj55wenj69vm",
        "colab_type": "code",
        "colab": {}
      },
      "source": [
        ""
      ],
      "execution_count": 0,
      "outputs": []
    }
  ]
}